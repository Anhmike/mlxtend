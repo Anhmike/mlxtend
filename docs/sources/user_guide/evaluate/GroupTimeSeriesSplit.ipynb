{
 "cells": [
  {
   "cell_type": "markdown",
   "metadata": {},
   "source": [
    "# GroupTimeSeriesSplit: A scikit-learn compatible version of the time series validation with groups"
   ]
  },
  {
   "cell_type": "code",
   "execution_count": 1,
   "metadata": {
    "tags": []
   },
   "outputs": [],
   "source": [
    "%load_ext autoreload\n",
    "%autoreload 2"
   ]
  },
  {
   "cell_type": "code",
   "execution_count": 2,
   "metadata": {},
   "outputs": [],
   "source": [
    "from pathlib import Path\n",
    "\n",
    "from IPython.display import display\n",
    "import numpy as np\n",
    "import pandas as pd\n",
    "from sklearn.dummy import DummyClassifier\n",
    "from sklearn.model_selection import cross_val_score\n",
    "\n",
    "from matplotlib.patches import Patch\n",
    "import matplotlib.pyplot as plt\n",
    "from matplotlib.ticker import MaxNLocator\n",
    "%matplotlib inline\n",
    "\n",
    "from mlxtend.evaluate.time_series import GroupTimeSeriesSplit"
   ]
  },
  {
   "cell_type": "markdown",
   "metadata": {
    "tags": []
   },
   "source": [
    "## Prepare sample data"
   ]
  },
  {
   "cell_type": "code",
   "execution_count": 3,
   "metadata": {},
   "outputs": [
    {
     "data": {
      "text/plain": [
       "{'2021-01': 0,\n",
       " '2021-02': 1,\n",
       " '2021-03': 2,\n",
       " '2021-04': 3,\n",
       " '2021-05': 4,\n",
       " '2021-06': 5}"
      ]
     },
     "execution_count": 3,
     "metadata": {},
     "output_type": "execute_result"
    }
   ],
   "source": [
    "months_map = {f'2021-0{i+1}': i for i in range(6)}\n",
    "months_map"
   ]
  },
  {
   "cell_type": "code",
   "execution_count": 4,
   "metadata": {},
   "outputs": [
    {
     "data": {
      "text/plain": [
       "['2021-01',\n",
       " '2021-02',\n",
       " '2021-02',\n",
       " '2021-02',\n",
       " '2021-02',\n",
       " '2021-03',\n",
       " '2021-03',\n",
       " '2021-03',\n",
       " '2021-04',\n",
       " '2021-04',\n",
       " '2021-05',\n",
       " '2021-05',\n",
       " '2021-06',\n",
       " '2021-06',\n",
       " '2021-06',\n",
       " '2021-06']"
      ]
     },
     "execution_count": 4,
     "metadata": {},
     "output_type": "execute_result"
    }
   ],
   "source": [
    "months = ['2021-01', '2021-02', '2021-02', '2021-02', '2021-02', '2021-03',\n",
    "          '2021-03', '2021-03', '2021-04', '2021-04', '2021-05', '2021-05',\n",
    "          '2021-06', '2021-06', '2021-06', '2021-06']\n",
    "months"
   ]
  },
  {
   "cell_type": "code",
   "execution_count": 5,
   "metadata": {},
   "outputs": [
    {
     "data": {
      "text/plain": [
       "array([0, 1, 1, 1, 1, 2, 2, 2, 3, 3, 4, 4, 5, 5, 5, 5])"
      ]
     },
     "execution_count": 5,
     "metadata": {},
     "output_type": "execute_result"
    }
   ],
   "source": [
    "groups = np.fromiter(map(months_map.get, months), dtype='int')\n",
    "groups"
   ]
  },
  {
   "cell_type": "markdown",
   "metadata": {},
   "source": [
    "### Features and targets"
   ]
  },
  {
   "cell_type": "code",
   "execution_count": 6,
   "metadata": {},
   "outputs": [
    {
     "data": {
      "text/html": [
       "<div>\n",
       "<style scoped>\n",
       "    .dataframe tbody tr th:only-of-type {\n",
       "        vertical-align: middle;\n",
       "    }\n",
       "\n",
       "    .dataframe tbody tr th {\n",
       "        vertical-align: top;\n",
       "    }\n",
       "\n",
       "    .dataframe thead th {\n",
       "        text-align: right;\n",
       "    }\n",
       "</style>\n",
       "<table border=\"1\" class=\"dataframe\">\n",
       "  <thead>\n",
       "    <tr style=\"text-align: right;\">\n",
       "      <th></th>\n",
       "      <th>num_feature</th>\n",
       "    </tr>\n",
       "  </thead>\n",
       "  <tbody>\n",
       "    <tr>\n",
       "      <th>2021-01</th>\n",
       "      <td>0</td>\n",
       "    </tr>\n",
       "    <tr>\n",
       "      <th>2021-02</th>\n",
       "      <td>7</td>\n",
       "    </tr>\n",
       "    <tr>\n",
       "      <th>2021-02</th>\n",
       "      <td>6</td>\n",
       "    </tr>\n",
       "    <tr>\n",
       "      <th>2021-02</th>\n",
       "      <td>4</td>\n",
       "    </tr>\n",
       "    <tr>\n",
       "      <th>2021-02</th>\n",
       "      <td>4</td>\n",
       "    </tr>\n",
       "    <tr>\n",
       "      <th>2021-03</th>\n",
       "      <td>8</td>\n",
       "    </tr>\n",
       "    <tr>\n",
       "      <th>2021-03</th>\n",
       "      <td>0</td>\n",
       "    </tr>\n",
       "    <tr>\n",
       "      <th>2021-03</th>\n",
       "      <td>6</td>\n",
       "    </tr>\n",
       "    <tr>\n",
       "      <th>2021-04</th>\n",
       "      <td>2</td>\n",
       "    </tr>\n",
       "    <tr>\n",
       "      <th>2021-04</th>\n",
       "      <td>0</td>\n",
       "    </tr>\n",
       "    <tr>\n",
       "      <th>2021-05</th>\n",
       "      <td>5</td>\n",
       "    </tr>\n",
       "    <tr>\n",
       "      <th>2021-05</th>\n",
       "      <td>9</td>\n",
       "    </tr>\n",
       "    <tr>\n",
       "      <th>2021-06</th>\n",
       "      <td>7</td>\n",
       "    </tr>\n",
       "    <tr>\n",
       "      <th>2021-06</th>\n",
       "      <td>7</td>\n",
       "    </tr>\n",
       "    <tr>\n",
       "      <th>2021-06</th>\n",
       "      <td>7</td>\n",
       "    </tr>\n",
       "    <tr>\n",
       "      <th>2021-06</th>\n",
       "      <td>7</td>\n",
       "    </tr>\n",
       "  </tbody>\n",
       "</table>\n",
       "</div>"
      ],
      "text/plain": [
       "         num_feature\n",
       "2021-01            0\n",
       "2021-02            7\n",
       "2021-02            6\n",
       "2021-02            4\n",
       "2021-02            4\n",
       "2021-03            8\n",
       "2021-03            0\n",
       "2021-03            6\n",
       "2021-04            2\n",
       "2021-04            0\n",
       "2021-05            5\n",
       "2021-05            9\n",
       "2021-06            7\n",
       "2021-06            7\n",
       "2021-06            7\n",
       "2021-06            7"
      ]
     },
     "metadata": {},
     "output_type": "display_data"
    },
    {
     "data": {
      "text/plain": [
       "0     1\n",
       "1     0\n",
       "2     1\n",
       "3     0\n",
       "4     1\n",
       "5     0\n",
       "6     0\n",
       "7     1\n",
       "8     1\n",
       "9     1\n",
       "10    0\n",
       "11    1\n",
       "12    1\n",
       "13    0\n",
       "14    0\n",
       "15    0\n",
       "Name: target, dtype: int64"
      ]
     },
     "metadata": {},
     "output_type": "display_data"
    }
   ],
   "source": [
    "data = [[0], [7], [6], [4], [4], [8], [0], [6], [2], [0], [5], [9], [7], [7], [7], [7]]\n",
    "target = [1, 0, 1, 0, 1, 0, 0, 1, 1, 1, 0, 1, 1, 0, 0, 0]\n",
    "\n",
    "X = pd.DataFrame(data, index=months, columns=['num_feature'])\n",
    "y = pd.Series(target, name='target')\n",
    "\n",
    "display(X, y)"
   ]
  },
  {
   "cell_type": "markdown",
   "metadata": {},
   "source": [
    "## Define helper function"
   ]
  },
  {
   "cell_type": "code",
   "execution_count": 7,
   "metadata": {},
   "outputs": [],
   "source": [
    "def test_cv(X, y, groups, **cv_args):\n",
    "    cv = GroupTimeSeriesSplit(**cv_args)\n",
    "    groups = np.array(groups)\n",
    "    \n",
    "    for train_idx, test_idx in cv.split(X, groups=groups):\n",
    "        print('TRAIN INDICES:', train_idx)\n",
    "        print('TEST INDICES:', test_idx)\n",
    "        print('TRAIN LENGTH:', len(train_idx))\n",
    "        print('TEST LENGTH:', len(test_idx))\n",
    "        print('TRAIN GROUPS:', groups[train_idx]) \n",
    "        print('TEST GROUPS:', groups[test_idx])\n",
    "        print('TRAIN GROUP SIZE:', len(set(groups[train_idx]))) \n",
    "        print('TEST GROUP SIZE:', len(set(groups[test_idx])))\n",
    "        print('TRAIN GROUP MONTHS:', X.index[train_idx].values) \n",
    "        print('TEST GROUP MONTHS:', X.index[test_idx].values)\n",
    "        print()\n",
    "\n",
    "def plot_cv_indices(cv, X, y, groups, n_splits,\n",
    "                    image_file_path=None):\n",
    "    \"\"\"Create a sample plot for indices of a cross-validation object.\"\"\"\n",
    "    \n",
    "    fig, ax = plt.subplots(figsize=(12, 4))\n",
    "    cmap_data = plt.cm.tab20\n",
    "    cmap_cv = plt.cm.coolwarm\n",
    "    lw = 10\n",
    "    marker_size = 200\n",
    "    \n",
    "    for split_idx, (train_idx, test_idx) in enumerate(cv.split(X=X, y=y, groups=groups)):\n",
    "        indices = np.array([np.nan] * len(X))\n",
    "        indices[test_idx] = 1\n",
    "        indices[train_idx] = 0\n",
    "        \n",
    "        ax.scatter(\n",
    "            range(len(X)),\n",
    "            [split_idx + 0.5] * len(X),\n",
    "            c=indices,\n",
    "            marker=\"_\",\n",
    "            lw=lw,\n",
    "            cmap=cmap_cv,\n",
    "            vmin=-0.4,\n",
    "            vmax=1.4,\n",
    "            s=marker_size\n",
    "        )\n",
    "    ax.scatter(\n",
    "        range(len(X)), [split_idx + 1.5] * len(X), \n",
    "        c=groups, marker=\"_\", lw=lw, \n",
    "        cmap=cmap_data, s=marker_size\n",
    "    )\n",
    "\n",
    "    yticklabels = list(range(n_splits)) + ['group']\n",
    "    ax.set(\n",
    "        yticks=np.arange(n_splits + 1) + 0.5,\n",
    "        yticklabels=yticklabels,\n",
    "        ylabel='CV iteration',\n",
    "        ylim=[n_splits + 1.2, -0.2],\n",
    "        xlim=[-0.5, len(indices) - 0.5]\n",
    "    )\n",
    "    ax.legend(\n",
    "        [Patch(color=cmap_cv(0.2)), Patch(color=cmap_cv(0.8))],\n",
    "        [\"Training set\", \"Testing set\"],\n",
    "        loc=(1.02, 0.8),\n",
    "        fontsize=13\n",
    "    )\n",
    "    \n",
    "    ax.set_title('{}\\n{}'.format(type(cv).__name__, cv_args), fontsize=15)\n",
    "    ax.xaxis.set_major_locator(MaxNLocator(min_n_ticks=len(X), integer=True))\n",
    "    ax.set_xlabel(xlabel='Sample index', fontsize=13)\n",
    "    ax.set_ylabel(ylabel='CV iteration', fontsize=13)\n",
    "    ax.tick_params(axis='both', which='major', labelsize=13)\n",
    "    ax.tick_params(axis='both', which='minor', labelsize=13)\n",
    "    \n",
    "    plt.tight_layout()\n",
    "    \n",
    "    if image_file_path:\n",
    "        plt.savefig(image_file_path, bbox_inches='tight')\n",
    "        \n",
    "    plt.show()\n",
    "    \n",
    "def plot_cv(X, y, groups, image_file_path=None, **cv_args):\n",
    "    cv = GroupTimeSeriesSplit(**cv_args)\n",
    "    cv._n_groups = len(np.unique(groups))\n",
    "    cv._calculate_split_params()\n",
    "    n_splits = cv.n_splits\n",
    "    \n",
    "    plot_cv_indices(cv, X, y, groups, n_splits,\n",
    "                    image_file_path=image_file_path)"
   ]
  },
  {
   "cell_type": "markdown",
   "metadata": {
    "tags": []
   },
   "source": [
    "## Check train/test split"
   ]
  },
  {
   "cell_type": "code",
   "execution_count": 8,
   "metadata": {},
   "outputs": [],
   "source": [
    "cv_args = {\n",
    "    'test_size': 3, \n",
    "    'n_splits': 1\n",
    "}"
   ]
  },
  {
   "cell_type": "code",
   "execution_count": 9,
   "metadata": {},
   "outputs": [
    {
     "name": "stdout",
     "output_type": "stream",
     "text": [
      "TRAIN INDICES: [0 1 2 3 4 5 6 7]\n",
      "TEST INDICES: [ 8  9 10 11 12 13 14 15]\n",
      "TRAIN LENGTH: 8\n",
      "TEST LENGTH: 8\n",
      "TRAIN GROUPS: [0 1 1 1 1 2 2 2]\n",
      "TEST GROUPS: [3 3 4 4 5 5 5 5]\n",
      "TRAIN GROUP SIZE: 3\n",
      "TEST GROUP SIZE: 3\n",
      "TRAIN GROUP MONTHS: ['2021-01' '2021-02' '2021-02' '2021-02' '2021-02' '2021-03' '2021-03'\n",
      " '2021-03']\n",
      "TEST GROUP MONTHS: ['2021-04' '2021-04' '2021-05' '2021-05' '2021-06' '2021-06' '2021-06'\n",
      " '2021-06']\n",
      "\n"
     ]
    },
    {
     "data": {
      "image/png": "[encoded data removed]",
      "text/plain": [
       "<Figure size 864x288 with 1 Axes>"
      ]
     },
     "metadata": {
      "needs_background": "light"
     },
     "output_type": "display_data"
    }
   ],
   "source": [
    "test_cv(X, y, groups, **cv_args)\n",
    "plot_cv(X, y, groups, **cv_args)"
   ]
  },
  {
   "cell_type": "markdown",
   "metadata": {},
   "source": [
    "## Check cross-validation split"
   ]
  },
  {
   "cell_type": "markdown",
   "metadata": {
    "tags": []
   },
   "source": [
    "### Success cases"
   ]
  },
  {
   "cell_type": "markdown",
   "metadata": {},
   "source": [
    "- test_size + train_size \n",
    "- test_size + n_splits\n",
    "- test_size + n_splits + gap_size\n",
    "- test_size + n_splits + shift_size\n",
    "- test_size + n_splits + expanding window\n",
    "- test_size + train_size + n_splits (full usage of data)\n",
    "- test_size + train_size + n_splits (partial usage of data)\n",
    "- Groups are not sorted\n",
    "- Group names\n",
    "- Usage in CV"
   ]
  },
  {
   "cell_type": "markdown",
   "metadata": {},
   "source": [
    "**test_size + train_size**"
   ]
  },
  {
   "cell_type": "code",
   "execution_count": 10,
   "metadata": {},
   "outputs": [
    {
     "name": "stdout",
     "output_type": "stream",
     "text": [
      "TRAIN INDICES: [0 1 2 3 4 5 6 7]\n",
      "TEST INDICES: [8 9]\n",
      "TRAIN LENGTH: 8\n",
      "TEST LENGTH: 2\n",
      "TRAIN GROUPS: [0 1 1 1 1 2 2 2]\n",
      "TEST GROUPS: [3 3]\n",
      "TRAIN GROUP SIZE: 3\n",
      "TEST GROUP SIZE: 1\n",
      "TRAIN GROUP MONTHS: ['2021-01' '2021-02' '2021-02' '2021-02' '2021-02' '2021-03' '2021-03'\n",
      " '2021-03']\n",
      "TEST GROUP MONTHS: ['2021-04' '2021-04']\n",
      "\n",
      "TRAIN INDICES: [1 2 3 4 5 6 7 8 9]\n",
      "TEST INDICES: [10 11]\n",
      "TRAIN LENGTH: 9\n",
      "TEST LENGTH: 2\n",
      "TRAIN GROUPS: [1 1 1 1 2 2 2 3 3]\n",
      "TEST GROUPS: [4 4]\n",
      "TRAIN GROUP SIZE: 3\n",
      "TEST GROUP SIZE: 1\n",
      "TRAIN GROUP MONTHS: ['2021-02' '2021-02' '2021-02' '2021-02' '2021-03' '2021-03' '2021-03'\n",
      " '2021-04' '2021-04']\n",
      "TEST GROUP MONTHS: ['2021-05' '2021-05']\n",
      "\n",
      "TRAIN INDICES: [ 5  6  7  8  9 10 11]\n",
      "TEST INDICES: [12 13 14 15]\n",
      "TRAIN LENGTH: 7\n",
      "TEST LENGTH: 4\n",
      "TRAIN GROUPS: [2 2 2 3 3 4 4]\n",
      "TEST GROUPS: [5 5 5 5]\n",
      "TRAIN GROUP SIZE: 3\n",
      "TEST GROUP SIZE: 1\n",
      "TRAIN GROUP MONTHS: ['2021-03' '2021-03' '2021-03' '2021-04' '2021-04' '2021-05' '2021-05']\n",
      "TEST GROUP MONTHS: ['2021-06' '2021-06' '2021-06' '2021-06']\n",
      "\n"
     ]
    },
    {
     "data": {
      "image/png": "[encoded data removed]",
      "text/plain": [
       "<Figure size 864x288 with 1 Axes>"
      ]
     },
     "metadata": {
      "needs_background": "light"
     },
     "output_type": "display_data"
    }
   ],
   "source": [
    "cv_args = {\n",
    "    'test_size': 1,\n",
    "    'train_size': 3\n",
    "}\n",
    "\n",
    "test_cv(X, y, groups, **cv_args)\n",
    "plot_cv(X, y, groups, **cv_args)"
   ]
  },
  {
   "cell_type": "markdown",
   "metadata": {},
   "source": [
    "**test_size + n_splits**"
   ]
  },
  {
   "cell_type": "code",
   "execution_count": 11,
   "metadata": {},
   "outputs": [
    {
     "name": "stdout",
     "output_type": "stream",
     "text": [
      "TRAIN INDICES: [0 1 2 3 4]\n",
      "TEST INDICES: [5 6 7 8 9]\n",
      "TRAIN LENGTH: 5\n",
      "TEST LENGTH: 5\n",
      "TRAIN GROUPS: [0 1 1 1 1]\n",
      "TEST GROUPS: [2 2 2 3 3]\n",
      "TRAIN GROUP SIZE: 2\n",
      "TEST GROUP SIZE: 2\n",
      "TRAIN GROUP MONTHS: ['2021-01' '2021-02' '2021-02' '2021-02' '2021-02']\n",
      "TEST GROUP MONTHS: ['2021-03' '2021-03' '2021-03' '2021-04' '2021-04']\n",
      "\n",
      "TRAIN INDICES: [1 2 3 4 5 6 7]\n",
      "TEST INDICES: [ 8  9 10 11]\n",
      "TRAIN LENGTH: 7\n",
      "TEST LENGTH: 4\n",
      "TRAIN GROUPS: [1 1 1 1 2 2 2]\n",
      "TEST GROUPS: [3 3 4 4]\n",
      "TRAIN GROUP SIZE: 2\n",
      "TEST GROUP SIZE: 2\n",
      "TRAIN GROUP MONTHS: ['2021-02' '2021-02' '2021-02' '2021-02' '2021-03' '2021-03' '2021-03']\n",
      "TEST GROUP MONTHS: ['2021-04' '2021-04' '2021-05' '2021-05']\n",
      "\n",
      "TRAIN INDICES: [5 6 7 8 9]\n",
      "TEST INDICES: [10 11 12 13 14 15]\n",
      "TRAIN LENGTH: 5\n",
      "TEST LENGTH: 6\n",
      "TRAIN GROUPS: [2 2 2 3 3]\n",
      "TEST GROUPS: [4 4 5 5 5 5]\n",
      "TRAIN GROUP SIZE: 2\n",
      "TEST GROUP SIZE: 2\n",
      "TRAIN GROUP MONTHS: ['2021-03' '2021-03' '2021-03' '2021-04' '2021-04']\n",
      "TEST GROUP MONTHS: ['2021-05' '2021-05' '2021-06' '2021-06' '2021-06' '2021-06']\n",
      "\n"
     ]
    },
    {
     "data": {
      "image/png": "[encoded data removed]",
      "text/plain": [
       "<Figure size 864x288 with 1 Axes>"
      ]
     },
     "metadata": {
      "needs_background": "light"
     },
     "output_type": "display_data"
    }
   ],
   "source": [
    "cv_args = {\n",
    "    'test_size': 2,\n",
    "    'n_splits': 3\n",
    "}\n",
    "\n",
    "test_cv(X, y, groups, **cv_args)\n",
    "plot_cv(X, y, groups, **cv_args)"
   ]
  },
  {
   "cell_type": "markdown",
   "metadata": {},
   "source": [
    "**test_size + n_splits + gap_size**"
   ]
  },
  {
   "cell_type": "code",
   "execution_count": 12,
   "metadata": {},
   "outputs": [
    {
     "name": "stdout",
     "output_type": "stream",
     "text": [
      "TRAIN INDICES: [0 1 2 3 4]\n",
      "TEST INDICES: [8 9]\n",
      "TRAIN LENGTH: 5\n",
      "TEST LENGTH: 2\n",
      "TRAIN GROUPS: [0 1 1 1 1]\n",
      "TEST GROUPS: [3 3]\n",
      "TRAIN GROUP SIZE: 2\n",
      "TEST GROUP SIZE: 1\n",
      "TRAIN GROUP MONTHS: ['2021-01' '2021-02' '2021-02' '2021-02' '2021-02']\n",
      "TEST GROUP MONTHS: ['2021-04' '2021-04']\n",
      "\n",
      "TRAIN INDICES: [1 2 3 4 5 6 7]\n",
      "TEST INDICES: [10 11]\n",
      "TRAIN LENGTH: 7\n",
      "TEST LENGTH: 2\n",
      "TRAIN GROUPS: [1 1 1 1 2 2 2]\n",
      "TEST GROUPS: [4 4]\n",
      "TRAIN GROUP SIZE: 2\n",
      "TEST GROUP SIZE: 1\n",
      "TRAIN GROUP MONTHS: ['2021-02' '2021-02' '2021-02' '2021-02' '2021-03' '2021-03' '2021-03']\n",
      "TEST GROUP MONTHS: ['2021-05' '2021-05']\n",
      "\n",
      "TRAIN INDICES: [5 6 7 8 9]\n",
      "TEST INDICES: [12 13 14 15]\n",
      "TRAIN LENGTH: 5\n",
      "TEST LENGTH: 4\n",
      "TRAIN GROUPS: [2 2 2 3 3]\n",
      "TEST GROUPS: [5 5 5 5]\n",
      "TRAIN GROUP SIZE: 2\n",
      "TEST GROUP SIZE: 1\n",
      "TRAIN GROUP MONTHS: ['2021-03' '2021-03' '2021-03' '2021-04' '2021-04']\n",
      "TEST GROUP MONTHS: ['2021-06' '2021-06' '2021-06' '2021-06']\n",
      "\n"
     ]
    },
    {
     "data": {
      "image/png": "[encoded data removed]",
      "text/plain": [
       "<Figure size 864x288 with 1 Axes>"
      ]
     },
     "metadata": {
      "needs_background": "light"
     },
     "output_type": "display_data"
    }
   ],
   "source": [
    "cv_args = {\n",
    "    'test_size': 1,\n",
    "    'n_splits': 3,\n",
    "    'gap_size': 1\n",
    "}\n",
    "\n",
    "test_cv(X, y, groups, **cv_args)\n",
    "plot_cv(X, y, groups, **cv_args)"
   ]
  },
  {
   "cell_type": "markdown",
   "metadata": {},
   "source": [
    "**test_size + n_splits + shift_size**"
   ]
  },
  {
   "cell_type": "code",
   "execution_count": 13,
   "metadata": {},
   "outputs": [
    {
     "name": "stdout",
     "output_type": "stream",
     "text": [
      "TRAIN INDICES: [0 1 2 3 4 5 6 7]\n",
      "TEST INDICES: [8 9]\n",
      "TRAIN LENGTH: 8\n",
      "TEST LENGTH: 2\n",
      "TRAIN GROUPS: [0 1 1 1 1 2 2 2]\n",
      "TEST GROUPS: [3 3]\n",
      "TRAIN GROUP SIZE: 3\n",
      "TEST GROUP SIZE: 1\n",
      "TRAIN GROUP MONTHS: ['2021-01' '2021-02' '2021-02' '2021-02' '2021-02' '2021-03' '2021-03'\n",
      " '2021-03']\n",
      "TEST GROUP MONTHS: ['2021-04' '2021-04']\n",
      "\n",
      "TRAIN INDICES: [ 5  6  7  8  9 10 11]\n",
      "TEST INDICES: [12 13 14 15]\n",
      "TRAIN LENGTH: 7\n",
      "TEST LENGTH: 4\n",
      "TRAIN GROUPS: [2 2 2 3 3 4 4]\n",
      "TEST GROUPS: [5 5 5 5]\n",
      "TRAIN GROUP SIZE: 3\n",
      "TEST GROUP SIZE: 1\n",
      "TRAIN GROUP MONTHS: ['2021-03' '2021-03' '2021-03' '2021-04' '2021-04' '2021-05' '2021-05']\n",
      "TEST GROUP MONTHS: ['2021-06' '2021-06' '2021-06' '2021-06']\n",
      "\n"
     ]
    },
    {
     "data": {
      "image/png": "[encoded data removed]",
      "text/plain": [
       "<Figure size 864x288 with 1 Axes>"
      ]
     },
     "metadata": {
      "needs_background": "light"
     },
     "output_type": "display_data"
    }
   ],
   "source": [
    "cv_args = {\n",
    "    'test_size': 1,\n",
    "    'n_splits': 2,\n",
    "    'shift_size': 2\n",
    "}\n",
    "\n",
    "test_cv(X, y, groups, **cv_args)\n",
    "plot_cv(X, y, groups, **cv_args)"
   ]
  },
  {
   "cell_type": "markdown",
   "metadata": {},
   "source": [
    "**test_size + n_splits + expanding window**"
   ]
  },
  {
   "cell_type": "code",
   "execution_count": 14,
   "metadata": {},
   "outputs": [
    {
     "name": "stdout",
     "output_type": "stream",
     "text": [
      "TRAIN INDICES: [0]\n",
      "TEST INDICES: [1 2 3 4 5 6 7 8 9]\n",
      "TRAIN LENGTH: 1\n",
      "TEST LENGTH: 9\n",
      "TRAIN GROUPS: [0]\n",
      "TEST GROUPS: [1 1 1 1 2 2 2 3 3]\n",
      "TRAIN GROUP SIZE: 1\n",
      "TEST GROUP SIZE: 3\n",
      "TRAIN GROUP MONTHS: ['2021-01']\n",
      "TEST GROUP MONTHS: ['2021-02' '2021-02' '2021-02' '2021-02' '2021-03' '2021-03' '2021-03'\n",
      " '2021-04' '2021-04']\n",
      "\n",
      "TRAIN INDICES: [0 1 2 3 4]\n",
      "TEST INDICES: [ 5  6  7  8  9 10 11]\n",
      "TRAIN LENGTH: 5\n",
      "TEST LENGTH: 7\n",
      "TRAIN GROUPS: [0 1 1 1 1]\n",
      "TEST GROUPS: [2 2 2 3 3 4 4]\n",
      "TRAIN GROUP SIZE: 2\n",
      "TEST GROUP SIZE: 3\n",
      "TRAIN GROUP MONTHS: ['2021-01' '2021-02' '2021-02' '2021-02' '2021-02']\n",
      "TEST GROUP MONTHS: ['2021-03' '2021-03' '2021-03' '2021-04' '2021-04' '2021-05' '2021-05']\n",
      "\n",
      "TRAIN INDICES: [0 1 2 3 4 5 6 7]\n",
      "TEST INDICES: [ 8  9 10 11 12 13 14 15]\n",
      "TRAIN LENGTH: 8\n",
      "TEST LENGTH: 8\n",
      "TRAIN GROUPS: [0 1 1 1 1 2 2 2]\n",
      "TEST GROUPS: [3 3 4 4 5 5 5 5]\n",
      "TRAIN GROUP SIZE: 3\n",
      "TEST GROUP SIZE: 3\n",
      "TRAIN GROUP MONTHS: ['2021-01' '2021-02' '2021-02' '2021-02' '2021-02' '2021-03' '2021-03'\n",
      " '2021-03']\n",
      "TEST GROUP MONTHS: ['2021-04' '2021-04' '2021-05' '2021-05' '2021-06' '2021-06' '2021-06'\n",
      " '2021-06']\n",
      "\n"
     ]
    },
    {
     "data": {
      "image/png": "[encoded data removed]",
      "text/plain": [
       "<Figure size 864x288 with 1 Axes>"
      ]
     },
     "metadata": {
      "needs_background": "light"
     },
     "output_type": "display_data"
    }
   ],
   "source": [
    "cv_args = {\n",
    "    'test_size': 3,\n",
    "    'n_splits': 3,\n",
    "    'window_type': 'expanding'\n",
    "}\n",
    "\n",
    "test_cv(X, y, groups, **cv_args)\n",
    "plot_cv(X, y, groups, **cv_args)"
   ]
  },
  {
   "cell_type": "markdown",
   "metadata": {},
   "source": [
    "**test_size + train_size + n_splits (full usage of data)**"
   ]
  },
  {
   "cell_type": "code",
   "execution_count": 15,
   "metadata": {},
   "outputs": [
    {
     "name": "stdout",
     "output_type": "stream",
     "text": [
      "TRAIN INDICES: [0 1 2 3 4]\n",
      "TEST INDICES: [ 5  6  7  8  9 10 11]\n",
      "TRAIN LENGTH: 5\n",
      "TEST LENGTH: 7\n",
      "TRAIN GROUPS: [0 1 1 1 1]\n",
      "TEST GROUPS: [2 2 2 3 3 4 4]\n",
      "TRAIN GROUP SIZE: 2\n",
      "TEST GROUP SIZE: 3\n",
      "TRAIN GROUP MONTHS: ['2021-01' '2021-02' '2021-02' '2021-02' '2021-02']\n",
      "TEST GROUP MONTHS: ['2021-03' '2021-03' '2021-03' '2021-04' '2021-04' '2021-05' '2021-05']\n",
      "\n",
      "TRAIN INDICES: [1 2 3 4 5 6 7]\n",
      "TEST INDICES: [ 8  9 10 11 12 13 14 15]\n",
      "TRAIN LENGTH: 7\n",
      "TEST LENGTH: 8\n",
      "TRAIN GROUPS: [1 1 1 1 2 2 2]\n",
      "TEST GROUPS: [3 3 4 4 5 5 5 5]\n",
      "TRAIN GROUP SIZE: 2\n",
      "TEST GROUP SIZE: 3\n",
      "TRAIN GROUP MONTHS: ['2021-02' '2021-02' '2021-02' '2021-02' '2021-03' '2021-03' '2021-03']\n",
      "TEST GROUP MONTHS: ['2021-04' '2021-04' '2021-05' '2021-05' '2021-06' '2021-06' '2021-06'\n",
      " '2021-06']\n",
      "\n"
     ]
    },
    {
     "data": {
      "image/png": "[encoded data removed]",
      "text/plain": [
       "<Figure size 864x288 with 1 Axes>"
      ]
     },
     "metadata": {
      "needs_background": "light"
     },
     "output_type": "display_data"
    }
   ],
   "source": [
    "cv_args = {\n",
    "    'test_size': 3,\n",
    "    'train_size': 2,\n",
    "    'n_splits': 2\n",
    "}\n",
    "\n",
    "test_cv(X, y, groups, **cv_args)\n",
    "plot_cv(X, y, groups, **cv_args)"
   ]
  },
  {
   "cell_type": "markdown",
   "metadata": {},
   "source": [
    "**test_size + train_size + n_splits (partial usage of data)**"
   ]
  },
  {
   "cell_type": "code",
   "execution_count": 16,
   "metadata": {},
   "outputs": [
    {
     "name": "stdout",
     "output_type": "stream",
     "text": [
      "TRAIN INDICES: [1 2 3 4 5 6 7]\n",
      "TEST INDICES: [ 8  9 10 11]\n",
      "TRAIN LENGTH: 7\n",
      "TEST LENGTH: 4\n",
      "TRAIN GROUPS: [1 1 1 1 2 2 2]\n",
      "TEST GROUPS: [3 3 4 4]\n",
      "TRAIN GROUP SIZE: 2\n",
      "TEST GROUP SIZE: 2\n",
      "TRAIN GROUP MONTHS: ['2021-02' '2021-02' '2021-02' '2021-02' '2021-03' '2021-03' '2021-03']\n",
      "TEST GROUP MONTHS: ['2021-04' '2021-04' '2021-05' '2021-05']\n",
      "\n",
      "TRAIN INDICES: [5 6 7 8 9]\n",
      "TEST INDICES: [10 11 12 13 14 15]\n",
      "TRAIN LENGTH: 5\n",
      "TEST LENGTH: 6\n",
      "TRAIN GROUPS: [2 2 2 3 3]\n",
      "TEST GROUPS: [4 4 5 5 5 5]\n",
      "TRAIN GROUP SIZE: 2\n",
      "TEST GROUP SIZE: 2\n",
      "TRAIN GROUP MONTHS: ['2021-03' '2021-03' '2021-03' '2021-04' '2021-04']\n",
      "TEST GROUP MONTHS: ['2021-05' '2021-05' '2021-06' '2021-06' '2021-06' '2021-06']\n",
      "\n"
     ]
    },
    {
     "data": {
      "image/png": "[encoded data removed]",
      "text/plain": [
       "<Figure size 864x288 with 1 Axes>"
      ]
     },
     "metadata": {
      "needs_background": "light"
     },
     "output_type": "display_data"
    }
   ],
   "source": [
    "cv_args = {\n",
    "    'test_size': 2,\n",
    "    'train_size': 2,\n",
    "    'n_splits': 2\n",
    "}\n",
    "\n",
    "test_cv(X, y, groups, **cv_args)\n",
    "plot_cv(X, y, groups, **cv_args)"
   ]
  },
  {
   "cell_type": "markdown",
   "metadata": {},
   "source": [
    "**Groups are not sorted**"
   ]
  },
  {
   "cell_type": "code",
   "execution_count": 17,
   "metadata": {},
   "outputs": [
    {
     "data": {
      "text/plain": [
       "['2021-06',\n",
       " '2021-06',\n",
       " '2021-06',\n",
       " '2021-06',\n",
       " '2021-02',\n",
       " '2021-02',\n",
       " '2021-02',\n",
       " '2021-02',\n",
       " '2021-04',\n",
       " '2021-04',\n",
       " '2021-03',\n",
       " '2021-03',\n",
       " '2021-03',\n",
       " '2021-05',\n",
       " '2021-05',\n",
       " '2021-01']"
      ]
     },
     "execution_count": 17,
     "metadata": {},
     "output_type": "execute_result"
    }
   ],
   "source": [
    "not_sorted_months = ['2021-06', '2021-06', '2021-06', '2021-06', '2021-02', '2021-02', \n",
    "                     '2021-02', '2021-02', '2021-04', '2021-04', '2021-03', '2021-03', \n",
    "                     '2021-03', '2021-05', '2021-05', '2021-01']\n",
    "not_sorted_months"
   ]
  },
  {
   "cell_type": "code",
   "execution_count": 18,
   "metadata": {},
   "outputs": [
    {
     "data": {
      "text/plain": [
       "array([5, 5, 5, 5, 1, 1, 1, 1, 3, 3, 2, 2, 2, 4, 4, 0])"
      ]
     },
     "execution_count": 18,
     "metadata": {},
     "output_type": "execute_result"
    }
   ],
   "source": [
    "not_sorted_groups = np.fromiter(map(months_map.get, not_sorted_months), dtype='int')\n",
    "not_sorted_groups"
   ]
  },
  {
   "cell_type": "code",
   "execution_count": 19,
   "metadata": {},
   "outputs": [
    {
     "data": {
      "text/html": [
       "<div>\n",
       "<style scoped>\n",
       "    .dataframe tbody tr th:only-of-type {\n",
       "        vertical-align: middle;\n",
       "    }\n",
       "\n",
       "    .dataframe tbody tr th {\n",
       "        vertical-align: top;\n",
       "    }\n",
       "\n",
       "    .dataframe thead th {\n",
       "        text-align: right;\n",
       "    }\n",
       "</style>\n",
       "<table border=\"1\" class=\"dataframe\">\n",
       "  <thead>\n",
       "    <tr style=\"text-align: right;\">\n",
       "      <th></th>\n",
       "      <th>num_feature</th>\n",
       "    </tr>\n",
       "  </thead>\n",
       "  <tbody>\n",
       "    <tr>\n",
       "      <th>2021-06</th>\n",
       "      <td>0</td>\n",
       "    </tr>\n",
       "    <tr>\n",
       "      <th>2021-06</th>\n",
       "      <td>7</td>\n",
       "    </tr>\n",
       "    <tr>\n",
       "      <th>2021-06</th>\n",
       "      <td>6</td>\n",
       "    </tr>\n",
       "    <tr>\n",
       "      <th>2021-06</th>\n",
       "      <td>4</td>\n",
       "    </tr>\n",
       "    <tr>\n",
       "      <th>2021-02</th>\n",
       "      <td>4</td>\n",
       "    </tr>\n",
       "    <tr>\n",
       "      <th>2021-02</th>\n",
       "      <td>8</td>\n",
       "    </tr>\n",
       "    <tr>\n",
       "      <th>2021-02</th>\n",
       "      <td>0</td>\n",
       "    </tr>\n",
       "    <tr>\n",
       "      <th>2021-02</th>\n",
       "      <td>6</td>\n",
       "    </tr>\n",
       "    <tr>\n",
       "      <th>2021-04</th>\n",
       "      <td>2</td>\n",
       "    </tr>\n",
       "    <tr>\n",
       "      <th>2021-04</th>\n",
       "      <td>0</td>\n",
       "    </tr>\n",
       "    <tr>\n",
       "      <th>2021-03</th>\n",
       "      <td>5</td>\n",
       "    </tr>\n",
       "    <tr>\n",
       "      <th>2021-03</th>\n",
       "      <td>9</td>\n",
       "    </tr>\n",
       "    <tr>\n",
       "      <th>2021-03</th>\n",
       "      <td>7</td>\n",
       "    </tr>\n",
       "    <tr>\n",
       "      <th>2021-05</th>\n",
       "      <td>7</td>\n",
       "    </tr>\n",
       "    <tr>\n",
       "      <th>2021-05</th>\n",
       "      <td>7</td>\n",
       "    </tr>\n",
       "    <tr>\n",
       "      <th>2021-01</th>\n",
       "      <td>7</td>\n",
       "    </tr>\n",
       "  </tbody>\n",
       "</table>\n",
       "</div>"
      ],
      "text/plain": [
       "         num_feature\n",
       "2021-06            0\n",
       "2021-06            7\n",
       "2021-06            6\n",
       "2021-06            4\n",
       "2021-02            4\n",
       "2021-02            8\n",
       "2021-02            0\n",
       "2021-02            6\n",
       "2021-04            2\n",
       "2021-04            0\n",
       "2021-03            5\n",
       "2021-03            9\n",
       "2021-03            7\n",
       "2021-05            7\n",
       "2021-05            7\n",
       "2021-01            7"
      ]
     },
     "execution_count": 19,
     "metadata": {},
     "output_type": "execute_result"
    }
   ],
   "source": [
    "X_not_sorted = X.copy()\n",
    "X_not_sorted.index = not_sorted_months\n",
    "X_not_sorted"
   ]
  },
  {
   "cell_type": "code",
   "execution_count": 20,
   "metadata": {},
   "outputs": [
    {
     "name": "stdout",
     "output_type": "stream",
     "text": [
      "TRAIN INDICES: [0 1 2 3 4 5 6 7 8 9]\n",
      "TEST INDICES: [10 11 12]\n",
      "TRAIN LENGTH: 10\n",
      "TEST LENGTH: 3\n",
      "TRAIN GROUPS: [5 5 5 5 1 1 1 1 3 3]\n",
      "TEST GROUPS: [2 2 2]\n",
      "TRAIN GROUP SIZE: 3\n",
      "TEST GROUP SIZE: 1\n",
      "TRAIN GROUP MONTHS: ['2021-06' '2021-06' '2021-06' '2021-06' '2021-02' '2021-02' '2021-02'\n",
      " '2021-02' '2021-04' '2021-04']\n",
      "TEST GROUP MONTHS: ['2021-03' '2021-03' '2021-03']\n",
      "\n",
      "TRAIN INDICES: [ 4  5  6  7  8  9 10 11 12]\n",
      "TEST INDICES: [13 14]\n",
      "TRAIN LENGTH: 9\n",
      "TEST LENGTH: 2\n",
      "TRAIN GROUPS: [1 1 1 1 3 3 2 2 2]\n",
      "TEST GROUPS: [4 4]\n",
      "TRAIN GROUP SIZE: 3\n",
      "TEST GROUP SIZE: 1\n",
      "TRAIN GROUP MONTHS: ['2021-02' '2021-02' '2021-02' '2021-02' '2021-04' '2021-04' '2021-03'\n",
      " '2021-03' '2021-03']\n",
      "TEST GROUP MONTHS: ['2021-05' '2021-05']\n",
      "\n",
      "TRAIN INDICES: [ 8  9 10 11 12 13 14]\n",
      "TEST INDICES: [15]\n",
      "TRAIN LENGTH: 7\n",
      "TEST LENGTH: 1\n",
      "TRAIN GROUPS: [3 3 2 2 2 4 4]\n",
      "TEST GROUPS: [0]\n",
      "TRAIN GROUP SIZE: 3\n",
      "TEST GROUP SIZE: 1\n",
      "TRAIN GROUP MONTHS: ['2021-04' '2021-04' '2021-03' '2021-03' '2021-03' '2021-05' '2021-05']\n",
      "TEST GROUP MONTHS: ['2021-01']\n",
      "\n"
     ]
    },
    {
     "data": {
      "image/png": "[encoded data removed]",
      "text/plain": [
       "<Figure size 864x288 with 1 Axes>"
      ]
     },
     "metadata": {
      "needs_background": "light"
     },
     "output_type": "display_data"
    }
   ],
   "source": [
    "cv_args = {\n",
    "    'test_size': 1,\n",
    "    'train_size': 3\n",
    "}\n",
    "\n",
    "test_cv(X_not_sorted, y, not_sorted_groups, **cv_args)\n",
    "plot_cv(X_not_sorted, y, not_sorted_groups, **cv_args)"
   ]
  },
  {
   "cell_type": "markdown",
   "metadata": {},
   "source": [
    "**Group names**"
   ]
  },
  {
   "cell_type": "code",
   "execution_count": 21,
   "metadata": {},
   "outputs": [
    {
     "name": "stdout",
     "output_type": "stream",
     "text": [
      "TRAIN INDICES: [0 1 2 3 4 5 6 7]\n",
      "TEST INDICES: [8 9]\n",
      "TRAIN LENGTH: 8\n",
      "TEST LENGTH: 2\n",
      "TRAIN GROUPS: ['2021-01' '2021-02' '2021-02' '2021-02' '2021-02' '2021-03' '2021-03'\n",
      " '2021-03']\n",
      "TEST GROUPS: ['2021-04' '2021-04']\n",
      "TRAIN GROUP SIZE: 3\n",
      "TEST GROUP SIZE: 1\n",
      "TRAIN GROUP MONTHS: ['2021-01' '2021-02' '2021-02' '2021-02' '2021-02' '2021-03' '2021-03'\n",
      " '2021-03']\n",
      "TEST GROUP MONTHS: ['2021-04' '2021-04']\n",
      "\n",
      "TRAIN INDICES: [1 2 3 4 5 6 7 8 9]\n",
      "TEST INDICES: [10 11]\n",
      "TRAIN LENGTH: 9\n",
      "TEST LENGTH: 2\n",
      "TRAIN GROUPS: ['2021-02' '2021-02' '2021-02' '2021-02' '2021-03' '2021-03' '2021-03'\n",
      " '2021-04' '2021-04']\n",
      "TEST GROUPS: ['2021-05' '2021-05']\n",
      "TRAIN GROUP SIZE: 3\n",
      "TEST GROUP SIZE: 1\n",
      "TRAIN GROUP MONTHS: ['2021-02' '2021-02' '2021-02' '2021-02' '2021-03' '2021-03' '2021-03'\n",
      " '2021-04' '2021-04']\n",
      "TEST GROUP MONTHS: ['2021-05' '2021-05']\n",
      "\n",
      "TRAIN INDICES: [ 5  6  7  8  9 10 11]\n",
      "TEST INDICES: [12 13 14 15]\n",
      "TRAIN LENGTH: 7\n",
      "TEST LENGTH: 4\n",
      "TRAIN GROUPS: ['2021-03' '2021-03' '2021-03' '2021-04' '2021-04' '2021-05' '2021-05']\n",
      "TEST GROUPS: ['2021-06' '2021-06' '2021-06' '2021-06']\n",
      "TRAIN GROUP SIZE: 3\n",
      "TEST GROUP SIZE: 1\n",
      "TRAIN GROUP MONTHS: ['2021-03' '2021-03' '2021-03' '2021-04' '2021-04' '2021-05' '2021-05']\n",
      "TEST GROUP MONTHS: ['2021-06' '2021-06' '2021-06' '2021-06']\n",
      "\n"
     ]
    }
   ],
   "source": [
    "cv_args = {\n",
    "    'test_size': 1,\n",
    "    'train_size': 3\n",
    "}\n",
    "\n",
    "test_cv(X, y, months, **cv_args)"
   ]
  },
  {
   "cell_type": "markdown",
   "metadata": {},
   "source": [
    "## Usage in CV"
   ]
  },
  {
   "cell_type": "code",
   "execution_count": 22,
   "metadata": {},
   "outputs": [
    {
     "data": {
      "text/plain": [
       "array([0.  , 0.5 , 0.25])"
      ]
     },
     "execution_count": 22,
     "metadata": {},
     "output_type": "execute_result"
    }
   ],
   "source": [
    "cv_args = {\n",
    "    'test_size': 1,\n",
    "    'train_size': 3\n",
    "}\n",
    "cv = GroupTimeSeriesSplit(**cv_args)\n",
    "clf = DummyClassifier(strategy='most_frequent')\n",
    "\n",
    "scores = cross_val_score(clf, X, y, groups=groups, scoring='accuracy', cv=cv)\n",
    "scores"
   ]
  },
  {
   "cell_type": "code",
   "execution_count": 23,
   "metadata": {},
   "outputs": [
    {
     "name": "stdout",
     "output_type": "stream",
     "text": [
      "[1 0 1 0 1 0 0 1] [0 0 0 0 0 0 0 0] [1 1] [0 0]\n",
      "[0 1 0 1 0 0 1 1 1] [1 1 1 1 1 1 1 1 1] [0 1] [1 1]\n",
      "[0 0 1 1 1 0 1] [1 1 1 1 1 1 1] [1 0 0 0] [1 1 1 1]\n"
     ]
    }
   ],
   "source": [
    "clf = DummyClassifier(strategy='most_frequent')\n",
    "\n",
    "for train_idx, test_idx in cv.split(X, y, groups):\n",
    "    clf.fit(X.iloc[train_idx], y.iloc[train_idx])\n",
    "    y_train_pred = clf.predict(X.iloc[train_idx])\n",
    "    y_test_pred = clf.predict(X.iloc[test_idx])\n",
    "    print(y.iloc[train_idx].values, y_train_pred,\n",
    "          y.iloc[test_idx].values, y_test_pred)"
   ]
  },
  {
   "cell_type": "markdown",
   "metadata": {},
   "source": [
    "### Failed cases"
   ]
  },
  {
   "cell_type": "markdown",
   "metadata": {},
   "source": [
    "- Groups are not consecutive\n",
    "- Both train_size and n_splits are specified\n",
    "- Incorrect window name\n",
    "- Specify train_size with expanding window\n",
    "- Not enough data (too many number of splits)\n",
    "- Not enough data (too large value of shift size)\n",
    "- Not enough data (too large value of gap size)"
   ]
  },
  {
   "cell_type": "markdown",
   "metadata": {},
   "source": [
    "**Groups are not consecutive**"
   ]
  },
  {
   "cell_type": "code",
   "execution_count": 24,
   "metadata": {},
   "outputs": [
    {
     "data": {
      "text/plain": [
       "['2021-01',\n",
       " '2021-02',\n",
       " '2021-02',\n",
       " '2021-02',\n",
       " '2021-02',\n",
       " '2021-03',\n",
       " '2021-03',\n",
       " '2021-03',\n",
       " '2021-04',\n",
       " '2021-04',\n",
       " '2021-05',\n",
       " '2021-05',\n",
       " '2021-03',\n",
       " '2021-03',\n",
       " '2021-03',\n",
       " '2021-03']"
      ]
     },
     "execution_count": 24,
     "metadata": {},
     "output_type": "execute_result"
    }
   ],
   "source": [
    "not_consecutive_months = ['2021-01', '2021-02', '2021-02', '2021-02', '2021-02', '2021-03',\n",
    "                          '2021-03', '2021-03', '2021-04', '2021-04', '2021-05', '2021-05',\n",
    "                          '2021-03', '2021-03', '2021-03', '2021-03']\n",
    "not_consecutive_months"
   ]
  },
  {
   "cell_type": "code",
   "execution_count": 25,
   "metadata": {},
   "outputs": [
    {
     "data": {
      "text/plain": [
       "array([0, 1, 1, 1, 1, 2, 2, 2, 3, 3, 4, 4, 2, 2, 2, 2])"
      ]
     },
     "execution_count": 25,
     "metadata": {},
     "output_type": "execute_result"
    }
   ],
   "source": [
    "not_consecutive_groups = np.fromiter(map(months_map.get, not_consecutive_months), dtype='int')\n",
    "not_consecutive_groups"
   ]
  },
  {
   "cell_type": "code",
   "execution_count": 26,
   "metadata": {},
   "outputs": [
    {
     "name": "stdout",
     "output_type": "stream",
     "text": [
      "The groups should be consecutive\n"
     ]
    }
   ],
   "source": [
    "try:\n",
    "    test_cv(X, y, not_consecutive_groups, **cv_args)\n",
    "except ValueError as e:\n",
    "    print(e)"
   ]
  },
  {
   "cell_type": "markdown",
   "metadata": {},
   "source": [
    "**Both train_size and n_splits are not specified**"
   ]
  },
  {
   "cell_type": "code",
   "execution_count": 27,
   "metadata": {},
   "outputs": [
    {
     "name": "stdout",
     "output_type": "stream",
     "text": [
      "Either train_size or n_splits should be defined\n"
     ]
    }
   ],
   "source": [
    "cv_args = {\n",
    "    'test_size': 3\n",
    "}\n",
    "\n",
    "try:\n",
    "    test_cv(X, y, groups, **cv_args)\n",
    "except ValueError as e:\n",
    "    print(e)"
   ]
  },
  {
   "cell_type": "markdown",
   "metadata": {},
   "source": [
    "**Incorrect window name**"
   ]
  },
  {
   "cell_type": "code",
   "execution_count": 28,
   "metadata": {},
   "outputs": [
    {
     "name": "stdout",
     "output_type": "stream",
     "text": [
      "Window type can be either \"rolling\" or \"expanding\"\n"
     ]
    }
   ],
   "source": [
    "cv_args = {\n",
    "    'test_size': 3,\n",
    "    'n_splits': 3,\n",
    "    'window_type': 'bad_name'\n",
    "}\n",
    "\n",
    "try:\n",
    "    test_cv(X, y, groups, **cv_args)\n",
    "except ValueError as e:\n",
    "    print(e)"
   ]
  },
  {
   "cell_type": "markdown",
   "metadata": {},
   "source": [
    "**Specify train_size with expanding window**"
   ]
  },
  {
   "cell_type": "code",
   "execution_count": 29,
   "metadata": {},
   "outputs": [
    {
     "name": "stdout",
     "output_type": "stream",
     "text": [
      "Train size can be specified only with rolling window\n"
     ]
    }
   ],
   "source": [
    "cv_args = {\n",
    "    'test_size': 3,\n",
    "    'train_size': 3,\n",
    "    'window_type': 'expanding'\n",
    "}\n",
    "\n",
    "try:\n",
    "    test_cv(X, y, groups, **cv_args)\n",
    "except ValueError as e:\n",
    "    print(e)"
   ]
  },
  {
   "cell_type": "markdown",
   "metadata": {},
   "source": [
    "**Not enough data (too large train_size and/or n_splits)**"
   ]
  },
  {
   "cell_type": "code",
   "execution_count": 30,
   "metadata": {},
   "outputs": [
    {
     "name": "stdout",
     "output_type": "stream",
     "text": [
      "Not enough data to split number of groups (6) for number splits (10) with train size (10), test size (1), gap size (0), shift size (1)\n"
     ]
    }
   ],
   "source": [
    "cv_args = {\n",
    "    'test_size': 1,\n",
    "    'train_size': 10, \n",
    "    'n_splits': 10\n",
    "}\n",
    "\n",
    "try:\n",
    "    test_cv(X, y, groups, **cv_args)\n",
    "except ValueError as e:\n",
    "    print(e)"
   ]
  },
  {
   "cell_type": "markdown",
   "metadata": {},
   "source": [
    "**Not enough data (too many number of splits)**"
   ]
  },
  {
   "cell_type": "code",
   "execution_count": 31,
   "metadata": {},
   "outputs": [
    {
     "name": "stdout",
     "output_type": "stream",
     "text": [
      "Not enough data to split number of groups (6) for number splits (10) with train size (-4), test size (1), gap size (0), shift size (1)\n"
     ]
    }
   ],
   "source": [
    "cv_args = {\n",
    "    'test_size': 1,\n",
    "    'n_splits': 10\n",
    "}\n",
    "\n",
    "try:\n",
    "    test_cv(X, y, groups, **cv_args)\n",
    "except ValueError as e:\n",
    "    print(e)"
   ]
  },
  {
   "cell_type": "markdown",
   "metadata": {},
   "source": [
    "**Not enough data (too large values of shift size)**"
   ]
  },
  {
   "cell_type": "code",
   "execution_count": 32,
   "metadata": {},
   "outputs": [
    {
     "name": "stdout",
     "output_type": "stream",
     "text": [
      "Not enough data to split number of groups (6) for number splits (3) with train size (-15), test size (1), gap size (0), shift size (10)\n"
     ]
    }
   ],
   "source": [
    "cv_args = {\n",
    "    'test_size': 1,\n",
    "    'n_splits': 3,\n",
    "    'shift_size': 10\n",
    "}\n",
    "\n",
    "try:\n",
    "    test_cv(X, y, groups, **cv_args)\n",
    "except ValueError as e:\n",
    "    print(e)"
   ]
  },
  {
   "cell_type": "markdown",
   "metadata": {},
   "source": [
    "**Not enough data (too large values of gap size)**"
   ]
  },
  {
   "cell_type": "code",
   "execution_count": 33,
   "metadata": {},
   "outputs": [
    {
     "name": "stdout",
     "output_type": "stream",
     "text": [
      "Not enough data to split number of groups (6) for number splits (3) with train size (-7), test size (1), gap size (10), shift size (1)\n"
     ]
    }
   ],
   "source": [
    "cv_args = {\n",
    "    'test_size': 1,\n",
    "    'n_splits': 3,\n",
    "    'gap_size': 10\n",
    "}\n",
    "\n",
    "try:\n",
    "    test_cv(X, y, groups, **cv_args)\n",
    "except ValueError as e:\n",
    "    print(e)"
   ]
  }
 ],
 "metadata": {
  "kernelspec": {
   "display_name": "mlxtend",
   "language": "python",
   "name": "mlxtend"
  },
  "language_info": {
   "codemirror_mode": {
    "name": "ipython",
    "version": 3
   },
   "file_extension": ".py",
   "mimetype": "text/x-python",
   "name": "python",
   "nbconvert_exporter": "python",
   "pygments_lexer": "ipython3",
   "version": "3.8.5"
  }
 },
 "nbformat": 4,
 "nbformat_minor": 4
}
